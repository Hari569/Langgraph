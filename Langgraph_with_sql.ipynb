{
  "nbformat": 4,
  "nbformat_minor": 0,
  "metadata": {
    "colab": {
      "provenance": [],
      "authorship_tag": "ABX9TyNSfOnvHRSh28dU/p2I9kE+"
    },
    "kernelspec": {
      "name": "python3",
      "display_name": "Python 3"
    },
    "language_info": {
      "name": "python"
    }
  },
  "cells": [
    {
      "cell_type": "code",
      "execution_count": 1,
      "metadata": {
        "colab": {
          "base_uri": "https://localhost:8080/"
        },
        "id": "Dv7q8fGlFIIu",
        "outputId": "36c5fc5f-888b-4135-9ba3-60bd5e6454ec"
      },
      "outputs": [
        {
          "output_type": "stream",
          "name": "stdout",
          "text": [
            "\u001b[31mERROR: pip's dependency resolver does not currently take into account all the packages that are installed. This behaviour is the source of the following dependency conflicts.\n",
            "langchain-text-splitters 0.3.8 requires langchain-core<1.0.0,>=0.3.51, but you have langchain-core 0.2.43 which is incompatible.\n",
            "langchain 0.3.25 requires langchain-core<1.0.0,>=0.3.58, but you have langchain-core 0.2.43 which is incompatible.\u001b[0m\u001b[31m\n",
            "\u001b[0m"
          ]
        }
      ],
      "source": [
        "!pip install -Uqqq pip --progress-bar off\n",
        "!pip install -qqq langchain-groq==0.1.9 --progress-bar off\n",
        "!pip install -qqq langgraph==0.2.4 --progress-bar off"
      ]
    },
    {
      "cell_type": "code",
      "source": [
        "\n",
        "import os\n",
        "import sqlite3\n",
        "from dataclasses import dataclass\n",
        "from datetime import date\n",
        "from enum import Enum, auto\n",
        "from typing import Annotated, List, Literal, Optional, Set, TypedDict\n",
        "\n",
        "from google.colab import userdata\n",
        "from IPython.display import Image, display\n",
        "from langchain_core.messages import HumanMessage, SystemMessage\n",
        "from langchain_core.prompts import PromptTemplate\n",
        "from langchain_core.pydantic_v1 import BaseModel, Field\n",
        "from langchain_core.tools import tool\n",
        "from langchain_groq import ChatGroq\n",
        "from langgraph.checkpoint.memory import MemorySaver\n",
        "from langgraph.graph import END, StateGraph\n",
        "from langgraph.graph.message import add_messages\n",
        "from langgraph.prebuilt import ToolNode\n",
        "\n",
        "MODEL = \"llama3-8b-8192\"\n",
        "\n",
        "llm = ChatGroq(temperature=0, model_name=MODEL, api_key=userdata.get(\"lama3\"))"
      ],
      "metadata": {
        "id": "RFlohsJwGTtE"
      },
      "execution_count": 23,
      "outputs": []
    },
    {
      "cell_type": "code",
      "source": [
        "DB_NAME = \"habit_tracker.db\"\n",
        "\n",
        "\n",
        "class DayOfWeek(Enum):\n",
        "    MONDAY = auto()\n",
        "    TUESDAY = auto()\n",
        "    WEDNESDAY = auto()\n",
        "    THURSDAY = auto()\n",
        "    FRIDAY = auto()\n",
        "    SATURDAY = auto()\n",
        "    SUNDAY = auto()\n",
        "\n",
        "\n",
        "@dataclass\n",
        "class Habit:\n",
        "    id: int\n",
        "    name: str\n",
        "    repeat_frequency: Set[DayOfWeek]\n",
        "    tags: List[str]\n",
        "\n",
        "\n",
        "@dataclass\n",
        "class DailyHabitEntry:\n",
        "    id: int\n",
        "    name: str\n",
        "    tags: List[str]\n",
        "    is_completed: bool\n",
        "\n",
        "\n",
        "def get_connection():\n",
        "    return sqlite3.connect(DB_NAME)\n",
        "\n",
        "\n",
        "def create_tables():\n",
        "    with get_connection() as conn:\n",
        "        cursor = conn.cursor()\n",
        "        cursor.execute(\n",
        "            \"\"\"\n",
        "            CREATE TABLE IF NOT EXISTS habits (\n",
        "                id INTEGER PRIMARY KEY AUTOINCREMENT,\n",
        "                name TEXT NOT NULL,\n",
        "                repeat_frequency TEXT NOT NULL,\n",
        "                tags TEXT NOT NULL\n",
        "            )\n",
        "        \"\"\"\n",
        "        )\n",
        "        cursor.execute(\n",
        "            \"\"\"\n",
        "            CREATE TABLE IF NOT EXISTS completions (\n",
        "                habit_id INTEGER,\n",
        "                completion_date TEXT,\n",
        "                PRIMARY KEY (habit_id, completion_date),\n",
        "                FOREIGN KEY (habit_id) REFERENCES habits (id)\n",
        "            )\n",
        "        \"\"\"\n",
        "        )\n",
        "        conn.commit()\n",
        "\n",
        "\n",
        "def list_habits() -> List[Habit]:\n",
        "    with get_connection() as conn:\n",
        "        cursor = conn.cursor()\n",
        "        cursor.execute(\"SELECT * FROM habits\")\n",
        "        return [\n",
        "            Habit(\n",
        "                id,\n",
        "                name,\n",
        "                {DayOfWeek[day] for day in freq.split(\",\")},\n",
        "                tags.split(\",\"),\n",
        "            )\n",
        "            for id, name, freq, tags in cursor.fetchall()\n",
        "        ]\n",
        "\n",
        "\n",
        "def habits_for_date(date: date) -> List[DailyHabitEntry]:\n",
        "    weekday = DayOfWeek(date.weekday() + 1).name\n",
        "    with get_connection() as conn:\n",
        "        cursor = conn.cursor()\n",
        "        cursor.execute(\n",
        "            \"\"\"\n",
        "            SELECT h.id, h.name, h.tags, c.completion_date IS NOT NULL as completed\n",
        "            FROM habits h\n",
        "            LEFT JOIN completions c ON h.id = c.habit_id AND c.completion_date = ?\n",
        "            WHERE instr(h.repeat_frequency, ?) > 0\n",
        "        \"\"\",\n",
        "            (date.isoformat(), weekday),\n",
        "        )\n",
        "        return [\n",
        "            DailyHabitEntry(id, name, tags.split(\",\"), bool(completed))\n",
        "            for id, name, tags, completed in cursor.fetchall()\n",
        "        ]\n",
        "\n",
        "\n",
        "def complete_habit(habit_id: int, completion_date: date):\n",
        "    with get_connection() as conn:\n",
        "        cursor = conn.cursor()\n",
        "        cursor.execute(\n",
        "            \"\"\"\n",
        "            INSERT OR REPLACE INTO completions (habit_id, completion_date)\n",
        "            VALUES (?, ?)\n",
        "        \"\"\",\n",
        "            (habit_id, completion_date.isoformat()),\n",
        "        )\n",
        "        conn.commit()\n",
        "\n",
        "\n",
        "def add_habit(name: str, repeat_frequency: Set[DayOfWeek], tags: List[str] = []) -> int:\n",
        "    with get_connection() as conn:\n",
        "        cursor = conn.cursor()\n",
        "        cursor.execute(\n",
        "            \"\"\"\n",
        "            INSERT INTO habits (name, repeat_frequency, tags)\n",
        "            VALUES (?, ?, ?)\n",
        "        \"\"\",\n",
        "            (name, \",\".join(day.name for day in repeat_frequency), \",\".join(tags)),\n",
        "        )\n",
        "        conn.commit()\n",
        "        return cursor.lastrowid\n",
        "\n",
        "\n",
        "def show_habits_for_date(date: date):\n",
        "    print(f\"Habits for {date}:\")\n",
        "    for entry in habits_for_date(date):\n",
        "        status = \"Completed\" if entry.is_completed else \"Not completed\"\n",
        "        print(f\"- {entry.name} (ID: {entry.id}): {status}\")\n",
        "        print(f\"  Tags: {', '.join(entry.tags)}\")\n",
        "\n",
        "\n",
        "create_tables()"
      ],
      "metadata": {
        "id": "m_h0PekmGdYp"
      },
      "execution_count": 4,
      "outputs": []
    },
    {
      "cell_type": "code",
      "source": [
        "add_habit(\"Feed the llamas\", {DayOfWeek.SATURDAY, DayOfWeek.SUNDAY}, [\"diet\"])\n",
        "add_habit(\n",
        "    \"Hit the gym\",\n",
        "    {DayOfWeek.MONDAY, DayOfWeek.WEDNESDAY, DayOfWeek.FRIDAY},\n",
        "    [\"exercise\", \"fitness\"],\n",
        ")"
      ],
      "metadata": {
        "colab": {
          "base_uri": "https://localhost:8080/"
        },
        "id": "U6_JTShhGdbc",
        "outputId": "73307801-6b56-454b-e635-57c85d3fc3c5"
      },
      "execution_count": 5,
      "outputs": [
        {
          "output_type": "execute_result",
          "data": {
            "text/plain": [
              "2"
            ]
          },
          "metadata": {},
          "execution_count": 5
        }
      ]
    },
    {
      "cell_type": "code",
      "source": [
        "list_habits()"
      ],
      "metadata": {
        "colab": {
          "base_uri": "https://localhost:8080/"
        },
        "id": "B38JcnzKGdeG",
        "outputId": "9f381c5d-dab3-4356-ed86-bb5026c756dc"
      },
      "execution_count": 6,
      "outputs": [
        {
          "output_type": "execute_result",
          "data": {
            "text/plain": [
              "[Habit(id=1, name='Feed the llamas', repeat_frequency={<DayOfWeek.SUNDAY: 7>, <DayOfWeek.SATURDAY: 6>}, tags=['diet']),\n",
              " Habit(id=2, name='Hit the gym', repeat_frequency={<DayOfWeek.MONDAY: 1>, <DayOfWeek.WEDNESDAY: 3>, <DayOfWeek.FRIDAY: 5>}, tags=['exercise', 'fitness'])]"
            ]
          },
          "metadata": {},
          "execution_count": 6
        }
      ]
    },
    {
      "cell_type": "code",
      "source": [
        "\n",
        "add_habit(\"Feed the llamas\", {DayOfWeek.SATURDAY, DayOfWeek.SUNDAY}, [\"diet\"])\n",
        "add_habit(\n",
        "    \"Hit the gym\",\n",
        "    {DayOfWeek.MONDAY, DayOfWeek.WEDNESDAY, DayOfWeek.FRIDAY},\n",
        "    [\"exercise\", \"fitness\"],\n",
        ")"
      ],
      "metadata": {
        "colab": {
          "base_uri": "https://localhost:8080/"
        },
        "id": "vKOi8AovGsCk",
        "outputId": "5a1122cf-db3d-45f9-8f91-109df6ab8277"
      },
      "execution_count": 7,
      "outputs": [
        {
          "output_type": "execute_result",
          "data": {
            "text/plain": [
              "4"
            ]
          },
          "metadata": {},
          "execution_count": 7
        }
      ]
    },
    {
      "cell_type": "code",
      "source": [
        "list_habits()"
      ],
      "metadata": {
        "colab": {
          "base_uri": "https://localhost:8080/"
        },
        "id": "WN3o2-dmGsFf",
        "outputId": "d5ab74e2-7b0b-426e-8d93-0ca7b0ee06dd"
      },
      "execution_count": 8,
      "outputs": [
        {
          "output_type": "execute_result",
          "data": {
            "text/plain": [
              "[Habit(id=1, name='Feed the llamas', repeat_frequency={<DayOfWeek.SUNDAY: 7>, <DayOfWeek.SATURDAY: 6>}, tags=['diet']),\n",
              " Habit(id=2, name='Hit the gym', repeat_frequency={<DayOfWeek.MONDAY: 1>, <DayOfWeek.WEDNESDAY: 3>, <DayOfWeek.FRIDAY: 5>}, tags=['exercise', 'fitness']),\n",
              " Habit(id=3, name='Feed the llamas', repeat_frequency={<DayOfWeek.SUNDAY: 7>, <DayOfWeek.SATURDAY: 6>}, tags=['diet']),\n",
              " Habit(id=4, name='Hit the gym', repeat_frequency={<DayOfWeek.MONDAY: 1>, <DayOfWeek.WEDNESDAY: 3>, <DayOfWeek.FRIDAY: 5>}, tags=['exercise', 'fitness'])]"
            ]
          },
          "metadata": {},
          "execution_count": 8
        }
      ]
    },
    {
      "cell_type": "code",
      "source": [
        "class CompleteHabitParams(BaseModel):\n",
        "    habit_id: int = Field(description=\"Id (number) of the habit e.g. 2\")\n",
        "    day: int = Field(description=\"Day of the month (1-31) e.g. 18\")\n",
        "    month: int = Field(description=\"Month of the year (1-12) e.g. 3\")\n",
        "    year: int = Field(description=\"Year for which to complete the habit e.g. 2024\")\n",
        "\n",
        "\n",
        "@tool(args_schema=CompleteHabitParams)\n",
        "def complete_habit_tool(habit_id: int, day: int, month: int, year: int):\n",
        "    \"\"\"Completes a habit for a specific date\"\"\"\n",
        "    completion_date = date(year, month, day)\n",
        "    complete_habit(habit_id, completion_date)\n",
        "\n",
        "\n",
        "class HabitsForDateParams(BaseModel):\n",
        "    day: int = Field(description=\"Day of the month (1-31) e.g. 18\")\n",
        "    month: int = Field(description=\"Month of the year (1-12) e.g. 3\")\n",
        "    year: int = Field(description=\"Year for which to complete the habit e.g. 2024\")\n",
        "\n",
        "\n",
        "@tool(args_schema=HabitsForDateParams)\n",
        "def habits_for_date_tool(day: int, month: int, year: int):\n",
        "    \"\"\"Returns a list of habits for a given date\"\"\"\n",
        "    return habits_for_date(date(year, month, day))\n",
        "\n",
        "\n",
        "class AddHabitParams(BaseModel):\n",
        "    name: str = Field(description=\"Name of the habit\")\n",
        "    repeat_frequency: Set[DayOfWeek] = Field(\n",
        "        description=\"Which days of the week the habit should repeat\"\n",
        "    )\n",
        "    tags: Optional[List[str]] = Field(\n",
        "        description=\"Optional list of tags for this habit\"\n",
        "    )\n",
        "\n",
        "\n",
        "@tool(args_schema=AddHabitParams)\n",
        "def add_habit_tool(\n",
        "    name: str, repeat_frequency: Set[DayOfWeek], tags: List[str] = []\n",
        ") -> int:\n",
        "    \"\"\"Adds a new habit with specific repeat frequency. Returns the ID of the habit.\"\"\"\n",
        "    return add_habit(name, repeat_frequency, tags)"
      ],
      "metadata": {
        "id": "fUKVuZjIIaNy"
      },
      "execution_count": 9,
      "outputs": []
    },
    {
      "cell_type": "code",
      "source": [
        "tools = [complete_habit_tool, habits_for_date_tool, add_habit_tool]\n",
        "llm = llm.bind_tools(tools)"
      ],
      "metadata": {
        "id": "xau7pdsGIh6v"
      },
      "execution_count": 24,
      "outputs": []
    },
    {
      "cell_type": "code",
      "source": [
        "class AppState(TypedDict):\n",
        "    messages: Annotated[list, add_messages]\n",
        "    habits: List[Habit]"
      ],
      "metadata": {
        "id": "x5tOwdRkIrPx"
      },
      "execution_count": 11,
      "outputs": []
    },
    {
      "cell_type": "code",
      "source": [
        "\n",
        "SYSTEM_TEMPLATE = PromptTemplate.from_template(\n",
        "    \"\"\"Current habits\n",
        "{habits}\n",
        "\"\"\"\n",
        ")\n",
        "\n",
        "\n",
        "def update_habits(state: AppState):\n",
        "    return {\"habits\": list_habits()}\n",
        "\n",
        "\n",
        "def call_model(state: AppState):\n",
        "    messages = state[\"messages\"]\n",
        "    first_message = messages[0]\n",
        "    system_message = SystemMessage(SYSTEM_TEMPLATE.format(habits=state[\"habits\"]))\n",
        "    if first_message.type == \"system\":\n",
        "        messages[0] = system_message\n",
        "    else:\n",
        "        messages.insert(0, system_message)\n",
        "    response = llm.invoke(messages)\n",
        "    return {\"messages\": [response]}\n",
        "\n",
        "\n",
        "tool_node = ToolNode(tools)"
      ],
      "metadata": {
        "id": "P-5zEwD9IrSV"
      },
      "execution_count": 12,
      "outputs": []
    },
    {
      "cell_type": "code",
      "source": [
        "def should_continue(state: AppState) -> Literal[\"tools\", END]:\n",
        "    messages = state[\"messages\"]\n",
        "    last_message = messages[-1]\n",
        "    if last_message.tool_calls:\n",
        "        return \"tools\"\n",
        "    return END"
      ],
      "metadata": {
        "id": "-10d86MeIrWw"
      },
      "execution_count": 13,
      "outputs": []
    },
    {
      "cell_type": "code",
      "source": [
        "\n",
        "graph = StateGraph(AppState)\n",
        "\n",
        "# nodes of the graph\n",
        "graph.add_node(\"update_habits\", update_habits)\n",
        "graph.add_node(\"agent\", call_model)\n",
        "graph.add_node(\"tools\", tool_node)\n",
        "\n",
        "# edges between nodes\n",
        "graph.add_edge(\"update_habits\", \"agent\")\n",
        "graph.add_conditional_edges(\"agent\", should_continue)\n",
        "graph.add_edge(\"tools\", \"update_habits\")\n",
        "\n",
        "# start node of the graph\n",
        "graph.set_entry_point(\"update_habits\")"
      ],
      "metadata": {
        "id": "lRiOMl6CIrZL"
      },
      "execution_count": 14,
      "outputs": []
    },
    {
      "cell_type": "code",
      "source": [
        "\n",
        "graph.nodes"
      ],
      "metadata": {
        "colab": {
          "base_uri": "https://localhost:8080/"
        },
        "id": "cFJ8DMmuJJBt",
        "outputId": "766c5c09-1998-4d87-94b8-c96a6451d00e"
      },
      "execution_count": 15,
      "outputs": [
        {
          "output_type": "execute_result",
          "data": {
            "text/plain": [
              "{'update_habits': StateNodeSpec(runnable=update_habits(recurse=True), metadata=None, input=<class '__main__.AppState'>, retry_policy=None),\n",
              " 'agent': StateNodeSpec(runnable=agent(recurse=True), metadata=None, input=<class '__main__.AppState'>, retry_policy=None),\n",
              " 'tools': StateNodeSpec(runnable=tools(recurse=True, tools_by_name={'complete_habit_tool': StructuredTool(name='complete_habit_tool', description='Completes a habit for a specific date', args_schema=<class '__main__.CompleteHabitParams'>, func=<function complete_habit_tool at 0x799a83decea0>), 'habits_for_date_tool': StructuredTool(name='habits_for_date_tool', description='Returns a list of habits for a given date', args_schema=<class '__main__.HabitsForDateParams'>, func=<function habits_for_date_tool at 0x799a8342a520>), 'add_habit_tool': StructuredTool(name='add_habit_tool', description='Adds a new habit with specific repeat frequency. Returns the ID of the habit.', args_schema=<class '__main__.AddHabitParams'>, func=<function add_habit_tool at 0x799a8342ae80>)}, handle_tool_errors=True), metadata=None, input=<class '__main__.AppState'>, retry_policy=None)}"
            ]
          },
          "metadata": {},
          "execution_count": 15
        }
      ]
    },
    {
      "cell_type": "code",
      "source": [
        "\n",
        "graph.edges"
      ],
      "metadata": {
        "colab": {
          "base_uri": "https://localhost:8080/"
        },
        "id": "9v8Hvqa-JJGD",
        "outputId": "385780cc-b839-4ed2-f3f3-2fcd9b45e46b"
      },
      "execution_count": 16,
      "outputs": [
        {
          "output_type": "execute_result",
          "data": {
            "text/plain": [
              "{('__start__', 'update_habits'),\n",
              " ('tools', 'update_habits'),\n",
              " ('update_habits', 'agent')}"
            ]
          },
          "metadata": {},
          "execution_count": 16
        }
      ]
    },
    {
      "cell_type": "code",
      "source": [
        "graph.channels"
      ],
      "metadata": {
        "colab": {
          "base_uri": "https://localhost:8080/"
        },
        "id": "24Ta5dqlJJIS",
        "outputId": "bc6bf0ef-d43d-49e6-da64-8cfc1eef61c0"
      },
      "execution_count": 17,
      "outputs": [
        {
          "output_type": "execute_result",
          "data": {
            "text/plain": [
              "{'messages': <langgraph.channels.binop.BinaryOperatorAggregate at 0x799a833ee1d0>,\n",
              " 'habits': <langgraph.channels.last_value.LastValue at 0x799a98e0da90>}"
            ]
          },
          "metadata": {},
          "execution_count": 17
        }
      ]
    },
    {
      "cell_type": "code",
      "source": [
        "checkpointer = MemorySaver()\n",
        "app = graph.compile(checkpointer=checkpointer)"
      ],
      "metadata": {
        "id": "hmYrU9YyJJKo"
      },
      "execution_count": 18,
      "outputs": []
    },
    {
      "cell_type": "code",
      "source": [
        "display(Image(app.get_graph().draw_mermaid_png()))"
      ],
      "metadata": {
        "colab": {
          "base_uri": "https://localhost:8080/",
          "height": 365
        },
        "id": "JeiMFgOcJYhe",
        "outputId": "5f008d6c-0bc4-4f85-ec9c-feb8546e5a6d"
      },
      "execution_count": 19,
      "outputs": [
        {
          "output_type": "display_data",
          "data": {
            "image/jpeg": "[encoded data removed]",
            "text/plain": [
              "<IPython.core.display.Image object>"
            ]
          },
          "metadata": {}
        }
      ]
    },
    {
      "cell_type": "code",
      "source": [
        "config = {\"configurable\": {\"thread_id\": 42}}\n",
        "\n",
        "state = app.invoke(\n",
        "    {\"messages\": [HumanMessage(content=\"Complete the workout for August 14th 2024\")]},\n",
        "    config=config,\n",
        ")"
      ],
      "metadata": {
        "id": "LajVUvFWJu62"
      },
      "execution_count": 26,
      "outputs": []
    },
    {
      "cell_type": "code",
      "source": [
        "state[\"habits\"]"
      ],
      "metadata": {
        "colab": {
          "base_uri": "https://localhost:8080/"
        },
        "id": "G8pDRo5gJqYs",
        "outputId": "8fbe553d-1e2f-4cdd-f538-3b1ca31005e3"
      },
      "execution_count": 27,
      "outputs": [
        {
          "output_type": "execute_result",
          "data": {
            "text/plain": [
              "[Habit(id=1, name='Feed the llamas', repeat_frequency={<DayOfWeek.SUNDAY: 7>, <DayOfWeek.SATURDAY: 6>}, tags=['diet']),\n",
              " Habit(id=2, name='Hit the gym', repeat_frequency={<DayOfWeek.MONDAY: 1>, <DayOfWeek.WEDNESDAY: 3>, <DayOfWeek.FRIDAY: 5>}, tags=['exercise', 'fitness']),\n",
              " Habit(id=3, name='Feed the llamas', repeat_frequency={<DayOfWeek.SUNDAY: 7>, <DayOfWeek.SATURDAY: 6>}, tags=['diet']),\n",
              " Habit(id=4, name='Hit the gym', repeat_frequency={<DayOfWeek.MONDAY: 1>, <DayOfWeek.WEDNESDAY: 3>, <DayOfWeek.FRIDAY: 5>}, tags=['exercise', 'fitness'])]"
            ]
          },
          "metadata": {},
          "execution_count": 27
        }
      ]
    },
    {
      "cell_type": "code",
      "source": [
        "for m in state[\"messages\"]:\n",
        "    m.pretty_print()"
      ],
      "metadata": {
        "colab": {
          "base_uri": "https://localhost:8080/"
        },
        "id": "CRsJwAMcJqbx",
        "outputId": "b2b63ee2-5f3a-4743-fa7d-eae7fc006773"
      },
      "execution_count": 28,
      "outputs": [
        {
          "output_type": "stream",
          "name": "stdout",
          "text": [
            "================================\u001b[1m System Message \u001b[0m================================\n",
            "\n",
            "Current habits\n",
            "[Habit(id=1, name='Feed the llamas', repeat_frequency={<DayOfWeek.SUNDAY: 7>, <DayOfWeek.SATURDAY: 6>}, tags=['diet']), Habit(id=2, name='Hit the gym', repeat_frequency={<DayOfWeek.MONDAY: 1>, <DayOfWeek.WEDNESDAY: 3>, <DayOfWeek.FRIDAY: 5>}, tags=['exercise', 'fitness']), Habit(id=3, name='Feed the llamas', repeat_frequency={<DayOfWeek.SUNDAY: 7>, <DayOfWeek.SATURDAY: 6>}, tags=['diet']), Habit(id=4, name='Hit the gym', repeat_frequency={<DayOfWeek.MONDAY: 1>, <DayOfWeek.WEDNESDAY: 3>, <DayOfWeek.FRIDAY: 5>}, tags=['exercise', 'fitness'])]\n",
            "\n",
            "================================\u001b[1m Human Message \u001b[0m=================================\n",
            "\n",
            "Complete the workout for August 14th 2024\n",
            "================================\u001b[1m Human Message \u001b[0m=================================\n",
            "\n",
            "Complete the workout for August 14th 2024\n",
            "==================================\u001b[1m Ai Message \u001b[0m==================================\n",
            "Tool Calls:\n",
            "  habits_for_date_tool (8rb8rtqq8)\n",
            " Call ID: 8rb8rtqq8\n",
            "  Args:\n",
            "    day: 14\n",
            "    month: 8\n",
            "    year: 2024\n",
            "=================================\u001b[1m Tool Message \u001b[0m=================================\n",
            "Name: habits_for_date_tool\n",
            "\n",
            "[DailyHabitEntry(id=2, name='Hit the gym', tags=['exercise', 'fitness'], is_completed=False), DailyHabitEntry(id=4, name='Hit the gym', tags=['exercise', 'fitness'], is_completed=False)]\n",
            "==================================\u001b[1m Ai Message \u001b[0m==================================\n",
            "Tool Calls:\n",
            "  complete_habit_tool (d7arah9ss)\n",
            " Call ID: d7arah9ss\n",
            "  Args:\n",
            "    day: 14\n",
            "    habit_id: 2\n",
            "    month: 8\n",
            "    year: 2024\n",
            "  complete_habit_tool (yxw36ew96)\n",
            " Call ID: yxw36ew96\n",
            "  Args:\n",
            "    day: 14\n",
            "    habit_id: 4\n",
            "    month: 8\n",
            "    year: 2024\n",
            "=================================\u001b[1m Tool Message \u001b[0m=================================\n",
            "Name: complete_habit_tool\n",
            "\n",
            "null\n",
            "=================================\u001b[1m Tool Message \u001b[0m=================================\n",
            "Name: complete_habit_tool\n",
            "\n",
            "null\n",
            "==================================\u001b[1m Ai Message \u001b[0m==================================\n",
            "\n",
            "It seems that both habits were not completed.\n"
          ]
        }
      ]
    },
    {
      "cell_type": "code",
      "source": [
        "show_habits_for_date(date(2024, 8, 14))"
      ],
      "metadata": {
        "colab": {
          "base_uri": "https://localhost:8080/"
        },
        "id": "tQquGRcKJqeb",
        "outputId": "cb5d3ed3-f3e0-4991-b7af-75a2adcfba2c"
      },
      "execution_count": 29,
      "outputs": [
        {
          "output_type": "stream",
          "name": "stdout",
          "text": [
            "Habits for 2024-08-14:\n",
            "- Hit the gym (ID: 2): Completed\n",
            "  Tags: exercise, fitness\n",
            "- Hit the gym (ID: 4): Completed\n",
            "  Tags: exercise, fitness\n"
          ]
        }
      ]
    },
    {
      "cell_type": "code",
      "source": [
        "print(state[\"messages\"][-1].content)"
      ],
      "metadata": {
        "colab": {
          "base_uri": "https://localhost:8080/"
        },
        "id": "g9isaRJMJqg4",
        "outputId": "5664d85c-9b35-4891-ae46-c62d9a1e6657"
      },
      "execution_count": 30,
      "outputs": [
        {
          "output_type": "stream",
          "name": "stdout",
          "text": [
            "It seems that both habits were not completed.\n"
          ]
        }
      ]
    },
    {
      "cell_type": "code",
      "source": [
        "show_habits_for_date(date(2024, 8, 14))"
      ],
      "metadata": {
        "colab": {
          "base_uri": "https://localhost:8080/"
        },
        "id": "zojU9iTzKYJK",
        "outputId": "eabf9c9a-c531-4ac2-cba5-11a7c5638642"
      },
      "execution_count": 31,
      "outputs": [
        {
          "output_type": "stream",
          "name": "stdout",
          "text": [
            "Habits for 2024-08-14:\n",
            "- Hit the gym (ID: 2): Completed\n",
            "  Tags: exercise, fitness\n",
            "- Hit the gym (ID: 4): Completed\n",
            "  Tags: exercise, fitness\n"
          ]
        }
      ]
    },
    {
      "cell_type": "code",
      "source": [
        "\n",
        "state = app.invoke(\n",
        "    {\n",
        "        \"messages\": [\n",
        "            HumanMessage(\n",
        "                content=\"Add a new habit for Reading a book every weekday #learning\"\n",
        "            )\n",
        "        ]\n",
        "    },\n",
        "    config=config,\n",
        ")"
      ],
      "metadata": {
        "id": "rUx-hHvoKYL_"
      },
      "execution_count": 32,
      "outputs": []
    },
    {
      "cell_type": "code",
      "source": [
        "\n",
        "for m in state[\"messages\"]:\n",
        "    m.pretty_print()"
      ],
      "metadata": {
        "colab": {
          "base_uri": "https://localhost:8080/"
        },
        "id": "HWmuhjGQKYOy",
        "outputId": "8b9f5220-e836-46f8-cc62-c26ce023a2e6"
      },
      "execution_count": 33,
      "outputs": [
        {
          "output_type": "stream",
          "name": "stdout",
          "text": [
            "================================\u001b[1m System Message \u001b[0m================================\n",
            "\n",
            "Current habits\n",
            "[Habit(id=1, name='Feed the llamas', repeat_frequency={<DayOfWeek.SUNDAY: 7>, <DayOfWeek.SATURDAY: 6>}, tags=['diet']), Habit(id=2, name='Hit the gym', repeat_frequency={<DayOfWeek.MONDAY: 1>, <DayOfWeek.WEDNESDAY: 3>, <DayOfWeek.FRIDAY: 5>}, tags=['exercise', 'fitness']), Habit(id=3, name='Feed the llamas', repeat_frequency={<DayOfWeek.SUNDAY: 7>, <DayOfWeek.SATURDAY: 6>}, tags=['diet']), Habit(id=4, name='Hit the gym', repeat_frequency={<DayOfWeek.MONDAY: 1>, <DayOfWeek.WEDNESDAY: 3>, <DayOfWeek.FRIDAY: 5>}, tags=['exercise', 'fitness']), Habit(id=5, name='Reading a book', repeat_frequency={<DayOfWeek.MONDAY: 1>, <DayOfWeek.TUESDAY: 2>, <DayOfWeek.WEDNESDAY: 3>, <DayOfWeek.THURSDAY: 4>, <DayOfWeek.FRIDAY: 5>}, tags=['learning'])]\n",
            "\n",
            "================================\u001b[1m Human Message \u001b[0m=================================\n",
            "\n",
            "Complete the workout for August 14th 2024\n",
            "================================\u001b[1m Human Message \u001b[0m=================================\n",
            "\n",
            "Complete the workout for August 14th 2024\n",
            "==================================\u001b[1m Ai Message \u001b[0m==================================\n",
            "Tool Calls:\n",
            "  habits_for_date_tool (8rb8rtqq8)\n",
            " Call ID: 8rb8rtqq8\n",
            "  Args:\n",
            "    day: 14\n",
            "    month: 8\n",
            "    year: 2024\n",
            "=================================\u001b[1m Tool Message \u001b[0m=================================\n",
            "Name: habits_for_date_tool\n",
            "\n",
            "[DailyHabitEntry(id=2, name='Hit the gym', tags=['exercise', 'fitness'], is_completed=False), DailyHabitEntry(id=4, name='Hit the gym', tags=['exercise', 'fitness'], is_completed=False)]\n",
            "==================================\u001b[1m Ai Message \u001b[0m==================================\n",
            "Tool Calls:\n",
            "  complete_habit_tool (d7arah9ss)\n",
            " Call ID: d7arah9ss\n",
            "  Args:\n",
            "    day: 14\n",
            "    habit_id: 2\n",
            "    month: 8\n",
            "    year: 2024\n",
            "  complete_habit_tool (yxw36ew96)\n",
            " Call ID: yxw36ew96\n",
            "  Args:\n",
            "    day: 14\n",
            "    habit_id: 4\n",
            "    month: 8\n",
            "    year: 2024\n",
            "=================================\u001b[1m Tool Message \u001b[0m=================================\n",
            "Name: complete_habit_tool\n",
            "\n",
            "null\n",
            "=================================\u001b[1m Tool Message \u001b[0m=================================\n",
            "Name: complete_habit_tool\n",
            "\n",
            "null\n",
            "==================================\u001b[1m Ai Message \u001b[0m==================================\n",
            "\n",
            "It seems that both habits were not completed.\n",
            "================================\u001b[1m Human Message \u001b[0m=================================\n",
            "\n",
            "Add a new habit for Reading a book every weekday #learning\n",
            "==================================\u001b[1m Ai Message \u001b[0m==================================\n",
            "Tool Calls:\n",
            "  add_habit_tool (vy9bsy32w)\n",
            " Call ID: vy9bsy32w\n",
            "  Args:\n",
            "    name: Reading a book\n",
            "    repeat_frequency: [1, 2, 3, 4, 5]\n",
            "    tags: ['learning']\n",
            "=================================\u001b[1m Tool Message \u001b[0m=================================\n",
            "Name: add_habit_tool\n",
            "\n",
            "5\n",
            "==================================\u001b[1m Ai Message \u001b[0m==================================\n",
            "\n",
            "You have successfully added a new habit with ID 5.\n"
          ]
        }
      ]
    },
    {
      "cell_type": "code",
      "source": [
        "\n",
        "list_habits()"
      ],
      "metadata": {
        "colab": {
          "base_uri": "https://localhost:8080/"
        },
        "id": "H9NaVlX_KYRO",
        "outputId": "b5b65996-877a-41bb-e63b-9b388b18af67"
      },
      "execution_count": 34,
      "outputs": [
        {
          "output_type": "execute_result",
          "data": {
            "text/plain": [
              "[Habit(id=1, name='Feed the llamas', repeat_frequency={<DayOfWeek.SUNDAY: 7>, <DayOfWeek.SATURDAY: 6>}, tags=['diet']),\n",
              " Habit(id=2, name='Hit the gym', repeat_frequency={<DayOfWeek.MONDAY: 1>, <DayOfWeek.WEDNESDAY: 3>, <DayOfWeek.FRIDAY: 5>}, tags=['exercise', 'fitness']),\n",
              " Habit(id=3, name='Feed the llamas', repeat_frequency={<DayOfWeek.SUNDAY: 7>, <DayOfWeek.SATURDAY: 6>}, tags=['diet']),\n",
              " Habit(id=4, name='Hit the gym', repeat_frequency={<DayOfWeek.MONDAY: 1>, <DayOfWeek.WEDNESDAY: 3>, <DayOfWeek.FRIDAY: 5>}, tags=['exercise', 'fitness']),\n",
              " Habit(id=5, name='Reading a book', repeat_frequency={<DayOfWeek.MONDAY: 1>, <DayOfWeek.TUESDAY: 2>, <DayOfWeek.WEDNESDAY: 3>, <DayOfWeek.THURSDAY: 4>, <DayOfWeek.FRIDAY: 5>}, tags=['learning'])]"
            ]
          },
          "metadata": {},
          "execution_count": 34
        }
      ]
    },
    {
      "cell_type": "code",
      "source": [
        "state = app.invoke(\n",
        "    {\n",
        "        \"messages\": [\n",
        "            HumanMessage(content=\"Show the scheduled habits for 14 August 2024\")\n",
        "        ]\n",
        "    },\n",
        "    config=config,\n",
        ")"
      ],
      "metadata": {
        "id": "6Z1LV74wKs96"
      },
      "execution_count": 35,
      "outputs": []
    },
    {
      "cell_type": "code",
      "source": [
        "print(state[\"messages\"][-1].content)"
      ],
      "metadata": {
        "colab": {
          "base_uri": "https://localhost:8080/"
        },
        "id": "8ovyEB_gK3Xn",
        "outputId": "bc60fa83-6e99-4ca0-a79a-c0cc61a310d3"
      },
      "execution_count": 36,
      "outputs": [
        {
          "output_type": "stream",
          "name": "stdout",
          "text": [
            "You have completed the \"Hit the gym\" habit and it is scheduled for 14 August 2024.\n"
          ]
        }
      ]
    },
    {
      "cell_type": "code",
      "source": [
        "\n",
        "show_habits_for_date(date(2024, 8, 14))"
      ],
      "metadata": {
        "colab": {
          "base_uri": "https://localhost:8080/"
        },
        "id": "GHjnI9wNK3aG",
        "outputId": "d41ed54a-b515-456a-9cf8-669129fdeaf9"
      },
      "execution_count": 37,
      "outputs": [
        {
          "output_type": "stream",
          "name": "stdout",
          "text": [
            "Habits for 2024-08-14:\n",
            "- Hit the gym (ID: 2): Completed\n",
            "  Tags: exercise, fitness\n",
            "- Hit the gym (ID: 4): Completed\n",
            "  Tags: exercise, fitness\n",
            "- Reading a book (ID: 5): Not completed\n",
            "  Tags: learning\n"
          ]
        }
      ]
    },
    {
      "cell_type": "code",
      "source": [],
      "metadata": {
        "id": "3g6rA181K3c4"
      },
      "execution_count": null,
      "outputs": []
    }
  ]
}