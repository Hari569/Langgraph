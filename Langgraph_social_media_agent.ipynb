{
  "nbformat": 4,
  "nbformat_minor": 0,
  "metadata": {
    "colab": {
      "provenance": [],
      "authorship_tag": "ABX9TyOwhk1xdL+kezPdDcETKzC2"
    },
    "kernelspec": {
      "name": "python3",
      "display_name": "Python 3"
    },
    "language_info": {
      "name": "python"
    }
  },
  "cells": [
    {
      "cell_type": "code",
      "execution_count": 1,
      "metadata": {
        "id": "1sg8L0nhLZ1D"
      },
      "outputs": [],
      "source": [
        "\n",
        "!pip install -Uqqq pip --progress-bar off\n",
        "!pip install -qqq langchain-groq==0.2.0 --progress-bar off\n",
        "!pip install -qqq langgraph==0.2.22 --progress-bar off"
      ]
    },
    {
      "cell_type": "code",
      "source": [
        "\n",
        "import sqlite3\n",
        "import textwrap\n",
        "from enum import Enum, auto\n",
        "from typing import List, Literal, Optional, TypedDict\n",
        "\n",
        "import matplotlib.pyplot as plt\n",
        "import numpy as np\n",
        "import pandas as pd\n",
        "from google.colab import userdata\n",
        "from IPython.display import Image, display\n",
        "from langchain_core.messages import HumanMessage, SystemMessage\n",
        "from langchain_groq import ChatGroq\n",
        "from langgraph.graph import END, StateGraph\n",
        "from pydantic import BaseModel, Field\n",
        "\n",
        "np.random.seed(42)\n",
        "\n",
        "MODEL = \"llama3-8b-8192\"\n",
        "\n",
        "llm = ChatGroq(temperature=0, model_name=MODEL, api_key=userdata.get(\"lama3\"))"
      ],
      "metadata": {
        "id": "ppJP0rSdLtjC"
      },
      "execution_count": 3,
      "outputs": []
    },
    {
      "cell_type": "code",
      "source": [
        "\n",
        "EDITOR_PROMPT = \"\"\"\n",
        "Rewrite for maximum social media engagement:\n",
        "\n",
        "- Use attention-grabbing, concise language\n",
        "- Inject personality and humor\n",
        "- Optimize formatting (short paragraphs)\n",
        "- Encourage interaction (questions, calls-to-action)\n",
        "- Ensure perfect grammar and spelling\n",
        "- Rewrite from first person perspective, when talking to an audience\n",
        "\n",
        "Use only the information provided in the text. Think carefully.\"\"\""
      ],
      "metadata": {
        "id": "HR7uhAsaLtl5"
      },
      "execution_count": 5,
      "outputs": []
    },
    {
      "cell_type": "code",
      "source": [
        "\n",
        "TWITTER_PROMPT = \"\"\"\n",
        "Generate a high-engagement tweet from the given text:\n",
        "1. What problem does this solve?\n",
        "2. Focus on the main technical points/features\n",
        "3. Write a short, coherent paragraph (2-3 sentences max)\n",
        "4. Use natural, conversational language\n",
        "5. Optimize for virality: make it intriguing, relatable, or controversial\n",
        "6. Exclude emojis and hashtags\n",
        "\"\"\""
      ],
      "metadata": {
        "id": "QNJC5JM1Ltos"
      },
      "execution_count": 6,
      "outputs": []
    },
    {
      "cell_type": "code",
      "source": [
        "\n",
        "TWITTER_CRITIQUE_PROMPT = \"\"\"\n",
        "You are a Tweet Critique Agent. Your task is to analyze tweets and provide actionable feedback to make them more engaging. Focus on:\n",
        "\n",
        "1. Clarity: Is the message clear and easy to understand?\n",
        "2. Hook: Does it grab attention in the first few words?\n",
        "3. Brevity: Is it concise while maintaining impact?\n",
        "4. Call-to-action: Does it encourage interaction or sharing?\n",
        "5. Tone: Is it appropriate for the intended audience?\n",
        "6. Storytelling: Does it evoke curiosity?\n",
        "7. Remove hype: Does it promise more than it delivers?\n",
        "\n",
        "Provide 2-3 specific suggestions to improve the tweet's engagement potential.\n",
        "Do not suggest hashtags. Keep your feedback concise and actionable.\n",
        "\n",
        "Your goal is to help the writer improve their social media writing skills and increase engagement with their posts.\n",
        "\"\"\""
      ],
      "metadata": {
        "id": "2Qs8GucdLtrY"
      },
      "execution_count": 7,
      "outputs": []
    },
    {
      "cell_type": "code",
      "source": [
        "\n",
        "LINKEDIN_PROMPT = \"\"\"\n",
        "Write a compelling LinkedIn post from the given text. Structure it as follows:\n",
        "\n",
        "1. Eye-catching headline (5-7 words)\n",
        "2. Identify a key problem or challenge\n",
        "3. Provide a bullet list of key benefits/features\n",
        "4. Highlight a clear benefit or solution\n",
        "5. Conclude with a thought-provoking question\n",
        "\n",
        "Maintain a professional, informative tone. Avoid emojis and hashtags.\n",
        "Keep the post concise (50-80 words) and relevant to the industry.\n",
        "Focus on providing valuable insights or actionable takeaways that will resonate\n",
        "with professionals in the field.\n",
        "\"\"\""
      ],
      "metadata": {
        "id": "rchdP8pQLtuP"
      },
      "execution_count": 8,
      "outputs": []
    },
    {
      "cell_type": "code",
      "source": [
        "\n",
        "LINKEDIN_CRITIQUE_PROMPT = \"\"\"\n",
        "Your role is to analyze LinkedIn posts and provide actionable feedback to make them more engaging.\n",
        "Focus on the following aspects:\n",
        "\n",
        "1. Hook: Evaluate the opening line's ability to grab attention.\n",
        "2. Structure: Assess the post's flow and readability.\n",
        "3. Content value: Determine if the post provides useful information or insights.\n",
        "4. Call-to-action: Check if there's a clear next step for readers.\n",
        "5. Language: Suggest improvements in tone, style, and word choice.\n",
        "6. Visual elements: Recommend additions or changes to images, videos, or formatting.\n",
        "\n",
        "For each aspect, provide:\n",
        "- A brief assessment (1-2 sentences)\n",
        "- A specific suggestion for improvement\n",
        "- A concise example of the suggested change\n",
        "\n",
        "Conclude with an overall recommendation for the most impactful change the author can make to increase engagement.\n",
        "Your goal is to help the writer improve their social media writing skills and increase engagement with their posts.\n",
        "\"\"\""
      ],
      "metadata": {
        "id": "tBpVVjjDLtwx"
      },
      "execution_count": 9,
      "outputs": []
    },
    {
      "cell_type": "code",
      "source": [
        "\n",
        "class Post(BaseModel):\n",
        "    \"\"\"A post written in different versions\"\"\"\n",
        "\n",
        "    drafts: List[str]\n",
        "    feedback: Optional[str]\n",
        "\n",
        "\n",
        "class AppState(TypedDict):\n",
        "    user_text: str\n",
        "    target_audience: str\n",
        "    edit_text: str\n",
        "    tweet: Post\n",
        "    linkedin_post: Post\n",
        "    n_drafts: int"
      ],
      "metadata": {
        "id": "pTV1qBzIMSUe"
      },
      "execution_count": 10,
      "outputs": []
    },
    {
      "cell_type": "code",
      "source": [
        "def editor_node(state: AppState):\n",
        "    prompt = f\"\"\"\n",
        "text:\n",
        "```\n",
        "{state[\"user_text\"]}\n",
        "```\n",
        "\"\"\".strip()\n",
        "    response = llm.invoke([SystemMessage(EDITOR_PROMPT), HumanMessage(prompt)])\n",
        "    return {\"edit_text\": response.content}"
      ],
      "metadata": {
        "id": "dotHrhJzLtza"
      },
      "execution_count": 11,
      "outputs": []
    },
    {
      "cell_type": "code",
      "source": [
        "\n",
        "def tweet_writer_node(state: AppState):\n",
        "\n",
        "    post = state[\"tweet\"]\n",
        "\n",
        "    feedback_prompt = (\n",
        "        \"\"\n",
        "        if not post.feedback\n",
        "        else f\"\"\"\n",
        "Tweet:\n",
        "```\n",
        "{post.drafts[-1]}\n",
        "```\n",
        "\n",
        "Use the feedback to improve it:\n",
        "```\n",
        "{post.feedback}\n",
        "```\n",
        "\"\"\".strip()\n",
        "    )\n",
        "\n",
        "    prompt = f\"\"\"\n",
        "text:\n",
        "```\n",
        "{state[\"edit_text\"]}\n",
        "```\n",
        "\n",
        "{feedback_prompt}\n",
        "\n",
        "Target audience: {state[\"target_audience\"]}\n",
        "\n",
        "Write only the text for the post\n",
        "\"\"\".strip()\n",
        "\n",
        "    response = llm.invoke([SystemMessage(TWITTER_PROMPT), HumanMessage(prompt)])\n",
        "    post.drafts.append(response.content)\n",
        "    return {\"tweet\": post}\n",
        ""
      ],
      "metadata": {
        "id": "t7pdEhDLLt2I"
      },
      "execution_count": 12,
      "outputs": []
    },
    {
      "cell_type": "code",
      "source": [
        "def linkedin_writer_node(state: AppState):\n",
        "    post = state[\"linkedin_post\"]\n",
        "\n",
        "    feedback_prompt = (\n",
        "        \"\"\n",
        "        if not post.feedback\n",
        "        else f\"\"\"\n",
        "LinkedIn post:\n",
        "```\n",
        "{post.drafts[-1]}\n",
        "```\n",
        "\n",
        "Use the feedback to improve it:\n",
        "```\n",
        "{post.feedback}\n",
        "```\n",
        "\"\"\".strip()\n",
        "    )\n",
        "\n",
        "    prompt = f\"\"\"\n",
        "text:\n",
        "```\n",
        "{state[\"edit_text\"]}\n",
        "```\n",
        "\n",
        "{feedback_prompt}\n",
        "\n",
        "Target audience: {state[\"target_audience\"]}\n",
        "\n",
        "Write only the text for the post\n",
        "\"\"\".strip()\n",
        "\n",
        "    response = llm.invoke([SystemMessage(LINKEDIN_PROMPT), HumanMessage(prompt)])\n",
        "    post.drafts.append(response.content)\n",
        "    return {\"linkedin_post\": post}"
      ],
      "metadata": {
        "id": "xQTtraIpLt4-"
      },
      "execution_count": 13,
      "outputs": []
    },
    {
      "cell_type": "code",
      "source": [
        "def critique_tweet_node(state: AppState):\n",
        "    post = state[\"tweet\"]\n",
        "\n",
        "    prompt = f\"\"\"\n",
        "Full post:\n",
        "```\n",
        "{state[\"edit_text\"]}\n",
        "```\n",
        "\n",
        "Suggested tweet (critique this):\n",
        "```\n",
        "{post.drafts[-1]}\n",
        "```\n",
        "\n",
        "Target audience: {state[\"target_audience\"]}\n",
        "\"\"\".strip()\n",
        "\n",
        "    response = llm.invoke(\n",
        "        [SystemMessage(TWITTER_CRITIQUE_PROMPT), HumanMessage(prompt)]\n",
        "    )\n",
        "    post.feedback = response.content\n",
        "    return {\"tweet\": post}"
      ],
      "metadata": {
        "id": "B76xoTyBMjxG"
      },
      "execution_count": 14,
      "outputs": []
    },
    {
      "cell_type": "code",
      "source": [
        "def critique_linkedin_node(state: AppState):\n",
        "    post = state[\"linkedin_post\"]\n",
        "\n",
        "    prompt = f\"\"\"\n",
        "Full post:\n",
        "```\n",
        "{state[\"edit_text\"]}\n",
        "```\n",
        "\n",
        "Suggested LinkedIn post (critique this):\n",
        "```\n",
        "{post.drafts[-1]}\n",
        "```\n",
        "\n",
        "Target audience: {state[\"target_audience\"]}\n",
        "\"\"\".strip()\n",
        "\n",
        "    response = llm.invoke(\n",
        "        [SystemMessage(LINKEDIN_CRITIQUE_PROMPT), HumanMessage(prompt)]\n",
        "    )\n",
        "    post.feedback = response.content\n",
        "    return {\"linkedin_post\": post}"
      ],
      "metadata": {
        "id": "feH51grMMjzr"
      },
      "execution_count": 15,
      "outputs": []
    },
    {
      "cell_type": "code",
      "source": [
        "def supervisor_node(state: AppState):\n",
        "    return state"
      ],
      "metadata": {
        "id": "h9UCFq8ZMj2i"
      },
      "execution_count": 16,
      "outputs": []
    },
    {
      "cell_type": "code",
      "source": [
        "def should_rewrite(\n",
        "    state: AppState,\n",
        ") -> Literal[[\"linkedin_critique\", \"tweet_critique\"], END]:\n",
        "    tweet = state[\"tweet\"]\n",
        "    linkedin_post = state[\"linkedin_post\"]\n",
        "    n_drafts = state[\"n_drafts\"]\n",
        "    if len(tweet.drafts) >= n_drafts and len(linkedin_post.drafts) >= n_drafts:\n",
        "        return END\n",
        "\n",
        "    return [\"linkedin_critique\", \"tweet_critique\"]"
      ],
      "metadata": {
        "id": "MeLwrWeNMj48"
      },
      "execution_count": 17,
      "outputs": []
    },
    {
      "cell_type": "code",
      "source": [
        "graph = StateGraph(AppState)\n",
        "\n",
        "graph.add_node(\"editor\", editor_node)\n",
        "graph.add_node(\"tweet_writer\", tweet_writer_node)\n",
        "graph.add_node(\"tweet_critique\", critique_tweet_node)\n",
        "graph.add_node(\"linkedin_writer\", linkedin_writer_node)\n",
        "graph.add_node(\"linkedin_critique\", critique_linkedin_node)\n",
        "graph.add_node(\"supervisor\", supervisor_node)\n",
        "\n",
        "graph.add_edge(\"editor\", \"tweet_writer\")\n",
        "graph.add_edge(\"editor\", \"linkedin_writer\")\n",
        "\n",
        "graph.add_edge(\"tweet_writer\", \"supervisor\")\n",
        "graph.add_edge(\"linkedin_writer\", \"supervisor\")\n",
        "graph.add_conditional_edges(\"supervisor\", should_rewrite)\n",
        "\n",
        "graph.add_edge(\"tweet_critique\", \"tweet_writer\")\n",
        "graph.add_edge(\"linkedin_critique\", \"linkedin_writer\")\n",
        "\n",
        "graph.set_entry_point(\"editor\")\n",
        "\n",
        "app = graph.compile()"
      ],
      "metadata": {
        "id": "V7sHb4rMMj7Y"
      },
      "execution_count": 18,
      "outputs": []
    },
    {
      "cell_type": "code",
      "source": [
        "display(Image(app.get_graph().draw_mermaid_png()))"
      ],
      "metadata": {
        "colab": {
          "base_uri": "https://localhost:8080/",
          "height": 563
        },
        "id": "g-B-PXx1Lt75",
        "outputId": "eb546c5b-bf27-43be-a278-3c9abe97b433"
      },
      "execution_count": 19,
      "outputs": [
        {
          "output_type": "display_data",
          "data": {
            "image/png": "[encoded data removed]",
            "text/plain": [
              "<IPython.core.display.Image object>"
            ]
          },
          "metadata": {}
        }
      ]
    },
    {
      "cell_type": "code",
      "source": [
        "\n",
        "%%time\n",
        "config = {\"configurable\": {\"thread_id\": 42}}\n",
        "\n",
        "user_text = \"\"\"\n",
        "With 22 billion parameters, Mistral Small v24.09 offers customers a convenient mid-point between Mistral NeMo 12B and Mistral Large 2,\n",
        "providing a cost-effective solution that can be deployed across various platforms and environments.\n",
        "The new small model delivers significant improvements in human alignment, reasoning capabilities, and code over the previous model.\n",
        "\n",
        "Mistral-Small-Instruct-2409 is an instruct fine-tuned version with the following characteristics:\n",
        "\n",
        "- 22B parameters\n",
        "- Vocabulary to 32768\n",
        "- Supports function calling\n",
        "- 128k sequence length\n",
        "\n",
        "Mistral Small v24.09 is released under the MRL license. You may self-deploy it for non-commercial purposes, using e.g. vLLM\n",
        "\n",
        "Weights on HuggingFace hub: https://huggingface.co/mistralai/Mistral-Small-Instruct-2409\n",
        "\"\"\"\n",
        "\n",
        "state = app.invoke(\n",
        "    {\n",
        "        \"user_text\": user_text,\n",
        "        \"target_audience\": \"AI/ML engineers and researchers, Data Scientists\",\n",
        "        \"tweet\": Post(drafts=[], feedback=None),\n",
        "        \"linkedin_post\": Post(drafts=[], feedback=None),\n",
        "        \"n_drafts\": 3,\n",
        "    },\n",
        "    config=config,\n",
        ")"
      ],
      "metadata": {
        "colab": {
          "base_uri": "https://localhost:8080/"
        },
        "id": "TcKLd3x3Lt-y",
        "outputId": "41fed080-657b-4a7e-8590-75a94ce201f0"
      },
      "execution_count": 20,
      "outputs": [
        {
          "output_type": "stream",
          "name": "stdout",
          "text": [
            "CPU times: user 1.43 s, sys: 142 ms, total: 1.57 s\n",
            "Wall time: 59.7 s\n"
          ]
        }
      ]
    },
    {
      "cell_type": "code",
      "source": [
        "\n",
        "print(state[\"edit_text\"])"
      ],
      "metadata": {
        "colab": {
          "base_uri": "https://localhost:8080/"
        },
        "id": "h-Sm_wPELuBm",
        "outputId": "a145d2e7-8f99-4521-b2ff-4201fccbcd1a"
      },
      "execution_count": 21,
      "outputs": [
        {
          "output_type": "stream",
          "name": "stdout",
          "text": [
            "Here's a rewritten version for maximum social media engagement:\n",
            "\n",
            "Exciting News!\n",
            "\n",
            "Meet Mistral Small v24.09, the game-changing AI model that's about to revolutionize the way you work!\n",
            "\n",
            "With 22 billion parameters, this cost-effective solution is the perfect middle ground between Mistral NeMo 12B and Mistral Large 2. Deploy it across various platforms and environments with ease!\n",
            "\n",
            "But that's not all! Mistral Small v24.09 boasts significant improvements in human alignment, reasoning capabilities, and code compared to its predecessor.\n",
            "\n",
            "And, as an added bonus, the instruct fine-tuned version, Mistral-Small-Instruct-2409, comes with:\n",
            "\n",
            "22B parameters\n",
            "Vocabulary up to 32768\n",
            "Function calling support\n",
            "128k sequence length\n",
            "\n",
            "The best part? You can self-deploy it for non-commercial purposes using vLLM!\n",
            "\n",
            "Ready to get started? Check out the weights on HuggingFace hub: https://huggingface.co/mistralai/Mistral-Small-Instruct-2409\n",
            "\n",
            "What are you waiting for? Share your thoughts and let's get the conversation started!\n"
          ]
        }
      ]
    },
    {
      "cell_type": "code",
      "source": [
        "\n",
        "for i, draft in enumerate(state[\"tweet\"].drafts):\n",
        "    print(f\"Draft #{i+1}\")\n",
        "    print(\"-\" * 10)\n",
        "    print(textwrap.fill(draft, 80))\n",
        "    print()"
      ],
      "metadata": {
        "colab": {
          "base_uri": "https://localhost:8080/"
        },
        "id": "3iGpGGT8LuEU",
        "outputId": "abd63b98-2e59-4113-ca44-0835c6129696"
      },
      "execution_count": 22,
      "outputs": [
        {
          "output_type": "stream",
          "name": "stdout",
          "text": [
            "Draft #1\n",
            "----------\n",
            "Here's a rewritten version of the text for a high-engagement tweet:  \"Meet\n",
            "Mistral Small v24.09, the AI model that's about to revolutionize the way you\n",
            "work. With 22 billion parameters, this cost-effective solution offers a sweet\n",
            "spot between Mistral NeMo 12B and Mistral Large 2. Plus, it boasts significant\n",
            "improvements in human alignment, reasoning capabilities, and code. And the best\n",
            "part? You can self-deploy it for non-commercial purposes using vLLM. Check out\n",
            "the weights on HuggingFace hub and let's get the conversation started!\"\n",
            "\n",
            "Draft #2\n",
            "----------\n",
            "Here's a rewritten version of the tweet:  \"Get ready to transform your workflow\n",
            "with Mistral Small v24.09, the AI model that's about to revolutionize the way\n",
            "you work! With 22 billion parameters, this cost-effective solution is the\n",
            "perfect middle ground between two of our most popular models - and it's more\n",
            "affordable! Plus, it boasts significant improvements in human alignment,\n",
            "reasoning capabilities, and code. Deploy AI models across various platforms and\n",
            "environments with ease, and get started with non-commercial projects using vLLM.\n",
            "Check out the weights on HuggingFace hub and let's get the conversation\n",
            "started!\"\n",
            "\n",
            "Draft #3\n",
            "----------\n",
            "Here's a rewritten tweet that addresses the weaknesses and suggestions:  \"Did\n",
            "you know that Mistral Small v24.09 can reduce AI model deployment time by 50%?\n",
            "This game-changing model boasts 22 billion parameters, significant improvements\n",
            "in human alignment and reasoning capabilities, and is the perfect middle ground\n",
            "between two of our most popular models. Say goodbye to tedious model deployment\n",
            "and hello to faster results with Mistral Small v24.09! Check out the weights on\n",
            "HuggingFace hub and let's get the conversation started!\"\n",
            "\n"
          ]
        }
      ]
    },
    {
      "cell_type": "code",
      "source": [
        "\n",
        "print(state[\"tweet\"].feedback)\n",
        ""
      ],
      "metadata": {
        "colab": {
          "base_uri": "https://localhost:8080/"
        },
        "id": "vL-sFuYpNZ6c",
        "outputId": "05212557-3ed7-4b81-824a-bae3ac2599b0"
      },
      "execution_count": 23,
      "outputs": [
        {
          "output_type": "stream",
          "name": "stdout",
          "text": [
            "Here's a critique of the rewritten tweet:\n",
            "\n",
            "**Strengths:**\n",
            "\n",
            "* The tweet is concise and easy to understand, making it clear what Mistral Small v24.09 is and its benefits.\n",
            "* It includes a clear call-to-action (\"Check out the weights on HuggingFace hub and let's get the conversation started!\") to encourage engagement.\n",
            "* The tone is professional and suitable for the target audience.\n",
            "\n",
            "**Weaknesses:**\n",
            "\n",
            "* The tweet could be more attention-grabbing. The opening phrase \"Get ready to transform your workflow\" is a good start, but it could be more specific and surprising.\n",
            "* The tweet could benefit from a more compelling reason to care about Mistral Small v24.09. What specific problems does it solve, and how will it make a tangible impact on the audience's work?\n",
            "\n",
            "**Suggestions:**\n",
            "\n",
            "1. **Add a hook:** Instead of starting with a generic phrase, try to start with something that grabs the audience's attention. For example, \"Did you know that Mistral Small v24.09 can reduce AI model deployment time by 50%?\"\n",
            "2. **Emphasize the benefits:** Instead of just listing features, try to focus on the specific benefits that Mistral Small v24.09 provides. For example, \"Say goodbye to tedious model deployment and hello to faster results with Mistral Small v24.09!\"\n",
            "3. **Make it more conversational:** While the tone is professional, the tweet could benefit from a more conversational tone. Try to use a more relaxed language and avoid jargon whenever possible.\n"
          ]
        }
      ]
    },
    {
      "cell_type": "code",
      "source": [
        "for i, draft in enumerate(state[\"linkedin_post\"].drafts):\n",
        "    print(f\"Draft #{i+1}\")\n",
        "    print(\"-\" * 10)\n",
        "    print(draft)\n",
        "    print()"
      ],
      "metadata": {
        "colab": {
          "base_uri": "https://localhost:8080/"
        },
        "id": "vZTuh-AoNZ9m",
        "outputId": "760bc639-38cb-4407-9c1e-bf1a1b64b3ea"
      },
      "execution_count": 24,
      "outputs": [
        {
          "output_type": "stream",
          "name": "stdout",
          "text": [
            "Draft #1\n",
            "----------\n",
            "Here is the rewritten LinkedIn post:\n",
            "\n",
            "\"Revolutionizing AI: Introducing Mistral Small v24.09\"\n",
            "\n",
            "Are you tired of sacrificing performance for cost-effectiveness in AI models? Mistral Small v24.09 offers a game-changing solution, boasting 22 billion parameters, human alignment, and reasoning capabilities. Key benefits include:\n",
            "\n",
            "• Cost-effective solution\n",
            "• Easy deployment across platforms and environments\n",
            "• Significant improvements in human alignment and reasoning capabilities\n",
            "• Instruct fine-tuned version with 22B parameters, vocabulary up to 32768, function calling support, and 128k sequence length\n",
            "\n",
            "What sets Mistral Small v24.09 apart is its ability to be self-deployed for non-commercial purposes using vLLM. Ready to get started? Check out the weights on HuggingFace hub: https://huggingface.co/mistralai/Mistral-Small-Instruct-2409\n",
            "\n",
            "What do you think is the most exciting aspect of this new AI model? Share your thoughts and let's get the conversation started!\n",
            "\n",
            "Draft #2\n",
            "----------\n",
            "Here is the rewritten LinkedIn post:\n",
            "\n",
            "Unlock the Power of AI: Introducing Mistral Small v24.09, the Game-Changer You've Been Waiting For!\n",
            "\n",
            "Are you tired of sacrificing performance for cost-effectiveness in AI models? Mistral Small v24.09 offers a game-changing solution, boasting 22 billion parameters, human alignment, and reasoning capabilities. Key benefits include:\n",
            "\n",
            "• Cost-effective solution\n",
            "• Easy deployment across platforms and environments\n",
            "• Significant improvements in human alignment and reasoning capabilities\n",
            "• Instruct fine-tuned version with 22B parameters, vocabulary up to 32768, function calling support, and 128k sequence length\n",
            "\n",
            "As AI continues to transform industries, we're excited to introduce Mistral Small v24.09, a game-changing AI model that's poised to revolutionize the way you work. With its cost-effective solution, easy deployment, and significant improvements in human alignment and reasoning capabilities, this AI model is a must-try for anyone looking to stay ahead of the curve.\n",
            "\n",
            "Ready to get started? Try out Mistral Small v24.09 and share your thoughts on how it's changing the game for you. Have you used similar AI models in the past? Share your experiences and let's get the conversation started!\n",
            "\n",
            "What do you think is the most exciting aspect of this new AI model?\n",
            "\n",
            "Draft #3\n",
            "----------\n",
            "Here is the rewritten LinkedIn post:\n",
            "\n",
            "Unlock the Power of AI: Introducing Mistral Small v24.09, the Game-Changer You've Been Waiting For!\n",
            "\n",
            "Are you tired of sacrificing performance for cost-effectiveness in AI models? Mistral Small v24.09 offers a game-changing solution, boasting 22 billion parameters, human alignment, and reasoning capabilities. Key benefits include:\n",
            "\n",
            "• Cost-effective solution\n",
            "• Easy deployment across platforms and environments\n",
            "• Significant improvements in human alignment and reasoning capabilities\n",
            "• Instruct fine-tuned version with 22B parameters, vocabulary up to 32768, function calling support, and 128k sequence length\n",
            "\n",
            "As AI continues to transform industries, we're excited to introduce Mistral Small v24.09, a game-changing AI model that's poised to revolutionize the way you work. With its cost-effective solution, easy deployment, and significant improvements in human alignment and reasoning capabilities, this AI model is a must-try for anyone looking to stay ahead of the curve.\n",
            "\n",
            "Ready to get started? Try out Mistral Small v24.09 and share your thoughts on how it's changing the game for you. Have you used similar AI models in the past? Share your experiences and let's get the conversation started!\n",
            "\n",
            "What do you think is the most exciting aspect of this new AI model?\n",
            "\n"
          ]
        }
      ]
    },
    {
      "cell_type": "code",
      "source": [
        "\n",
        "print(state[\"linkedin_post\"].feedback)"
      ],
      "metadata": {
        "colab": {
          "base_uri": "https://localhost:8080/"
        },
        "id": "CMRGLUAkNaBG",
        "outputId": "61659662-87ae-4103-8eb0-a258f5f9e097"
      },
      "execution_count": 25,
      "outputs": [
        {
          "output_type": "stream",
          "name": "stdout",
          "text": [
            "Here's the critique of the rewritten LinkedIn post:\n",
            "\n",
            "**Hook:** The opening line \"Unlock the Power of AI: Introducing Mistral Small v24.09, the Game-Changer You've Been Waiting For!\" is attention-grabbing and relevant to the target audience.\n",
            "\n",
            "**Suggestion:** Consider adding a brief statistic or a surprising fact about the AI model to make it even more intriguing.\n",
            "\n",
            "Example: \"Unlock the Power of AI: Introducing Mistral Small v24.09, the Game-Changer You've Been Waiting For! Did you know that this AI model can process 22 billion parameters, making it 10x more efficient than its predecessor?\"\n",
            "\n",
            "**Structure:** The post is well-structured, with clear headings and bullet points that make it easy to read and understand.\n",
            "\n",
            "**Suggestion:** Consider adding a brief summary or conclusion at the end to summarize the key benefits and encourage readers to try out the AI model.\n",
            "\n",
            "Example: \"In summary, Mistral Small v24.09 is a game-changing AI model that offers a cost-effective solution with significant improvements in human alignment and reasoning capabilities. Try it out and share your thoughts on how it's changing the game for you!\"\n",
            "\n",
            "**Content value:** The post provides useful information about the AI model, its features, and benefits, making it valuable for the target audience.\n",
            "\n",
            "**Suggestion:** Consider adding a personal anecdote or a real-world example of how the AI model has been used to make it more relatable and engaging.\n",
            "\n",
            "Example: \"I've seen firsthand how Mistral Small v24.09 has revolutionized the way our team works. By automating repetitive tasks, we've been able to focus on more strategic initiatives and drive better results. Try it out and see the impact it can have on your work!\"\n",
            "\n",
            "**Call-to-action:** The post includes a clear call-to-action, encouraging readers to try out the AI model and share their thoughts.\n",
            "\n",
            "**Suggestion:** Consider adding a sense of urgency or a limited-time offer to encourage readers to take action sooner rather than later.\n",
            "\n",
            "Example: \"Don't miss out on this opportunity to try out Mistral Small v24.09! For a limited time, we're offering a free trial for non-commercial purposes. Try it out and share your thoughts on how it's changing the game for you!\"\n",
            "\n",
            "**Language:** The post uses a professional tone and language, making it suitable for the target audience.\n",
            "\n",
            "**Suggestion:** Consider using more conversational language and avoiding jargon to make the post more engaging and accessible to a wider audience.\n",
            "\n",
            "Example: \"Instead of saying 'human alignment and reasoning capabilities,' try saying 'ability to understand and make decisions like a human.'\"\n",
            "\n",
            "**Visual elements:** The post includes a link to the HuggingFace hub, but it would be beneficial to add more visual elements, such as images or videos, to make the post more engaging.\n",
            "\n",
            "**Suggestion:** Consider adding a screenshot or a demo video of the AI model in action to make it more visually appealing.\n",
            "\n",
            "Example: \"Check out this demo video to see Mistral Small v24.09 in action: [link to video]\"\n",
            "\n",
            "**Overall recommendation:** The most impactful change the author can make to increase engagement is to add more personal anecdotes and real-world examples to make the post more relatable and engaging. Additionally, consider adding more visual elements and a sense of urgency to encourage readers to take action sooner rather than later.\n"
          ]
        }
      ]
    },
    {
      "cell_type": "code",
      "source": [],
      "metadata": {
        "id": "AV58qMVZNaDy"
      },
      "execution_count": null,
      "outputs": []
    },
    {
      "cell_type": "code",
      "source": [],
      "metadata": {
        "id": "jPra_TAKLuHm"
      },
      "execution_count": null,
      "outputs": []
    }
  ]
}